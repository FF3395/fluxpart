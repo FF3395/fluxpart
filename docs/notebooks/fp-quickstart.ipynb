{
 "cells": [
  {
   "cell_type": "markdown",
   "metadata": {},
   "source": [
    "## Quickstart"
   ]
  },
  {
   "cell_type": "markdown",
   "metadata": {},
   "source": [
    "Companion to: https://fluxpart.readthedocs.io/en/latest/tutorial.html"
   ]
  },
  {
   "cell_type": "code",
   "execution_count": null,
   "metadata": {},
   "outputs": [],
   "source": [
    "# A warm-up if you are new to Jupyter ...\n",
    "# Selecting a cell and hitting <Shift><Enter> executes the code in the cell\n",
    "# Select this cell now and hit <Shift><Enter>\n",
    "# Then do the same for the next cell\n",
    "\n",
    "x = 5"
   ]
  },
  {
   "cell_type": "code",
   "execution_count": null,
   "metadata": {},
   "outputs": [],
   "source": [
    "print('hello, world')\n",
    "print('this is x: ', x)\n",
    "print('\\nOK then? Carry on ...')"
   ]
  },
  {
   "cell_type": "markdown",
   "metadata": {},
   "source": [
    "This is a simple example of how to analyze a single data file (a 15 minute data interval). See the documentation linked above for examples of processing large numbers of files."
   ]
  },
  {
   "cell_type": "code",
   "execution_count": null,
   "metadata": {
    "scrolled": true
   },
   "outputs": [],
   "source": [
    "from fluxpart import fvs_partition\n",
    "out = fvs_partition(\n",
    "    file_or_dir=\"TOA5_6843.ts_Above_2012_06_07_1245.dat\",\n",
    "    hfd_format={\n",
    "        \"filetype\": \"csv\",\n",
    "        \"cols\": (2, 3, 4, 5, 6, 7, 8),\n",
    "        \"time_col\": 0,\n",
    "        \"unit_convert\": {'q': 1e-3, 'c': 1e-6, 'P': 1e3},\n",
    "        \"temper_unit\": \"C\",\n",
    "        \"skiprows\": 4,\n",
    "    },\n",
    "    wue_options={\n",
    "        \"meas_ht\": 7.11,\n",
    "        \"canopy_ht\": 4.42,\n",
    "        \"ppath\": 'C3',\n",
    "    }\n",
    ")"
   ]
  },
  {
   "cell_type": "code",
   "execution_count": null,
   "metadata": {},
   "outputs": [],
   "source": [
    "print(out)"
   ]
  }
 ],
 "metadata": {
  "kernelspec": {
   "display_name": "Python 3",
   "language": "python",
   "name": "python3"
  },
  "language_info": {
   "codemirror_mode": {
    "name": "ipython",
    "version": 3
   },
   "file_extension": ".py",
   "mimetype": "text/x-python",
   "name": "python",
   "nbconvert_exporter": "python",
   "pygments_lexer": "ipython3",
   "version": "3.7.0"
  }
 },
 "nbformat": 4,
 "nbformat_minor": 1
}
