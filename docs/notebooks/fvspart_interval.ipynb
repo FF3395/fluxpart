{
 "cells": [
  {
   "cell_type": "code",
   "execution_count": 15,
   "metadata": {},
   "outputs": [
    {
     "name": "stdout",
     "output_type": "stream",
     "text": [
      "-------------\n",
      "FVSP Solution\n",
      "-------------\n",
      "  valid_partition: True\n",
      "  fvsp_mssg: \n",
      "  Wavelet filtering level: nan\n",
      "  var_q = 0.1691 (g/m^3)^2\n",
      "  var_c = 26.86 (mg/m^3)^2\n",
      "  corr_qc = -0.881\n",
      "  cov_w_q = 0.03314 g/m^2/s\n",
      "  cov_w_c = -0.4721 mg/m^2/s\n",
      "  corr_cp_cr = -0.7585\n",
      "  var_cp = 27.36 (mg/m^3)^2\n",
      "  sig_cr = 0.06352 mg/m^3\n",
      "  co2soln_id = 1\n",
      "  valid_root = True\n",
      "  root_mssg = \n",
      "\n",
      "MassFluxes(\n",
      "    Fq = 0.03314 g/m^2/s,\n",
      "    Fqt = 0.01282 g/m^2/s,\n",
      "    Fqe = 0.02032 g/m^2/s,\n",
      "    Fc = -0.4721 mg/m^2/s,\n",
      "    Fcp = -0.4765 mg/m^2/s,\n",
      "    Fcr = 0.004389 mg/m^2/s)\n"
     ]
    }
   ],
   "source": [
    "from fluxpart.partition import fvspart_interval\n",
    "from fluxpart.containers import WQCData\n",
    "\n",
    "# Note converting input to SI units\n",
    "\n",
    "wue = -37.158598e-3\n",
    "\n",
    "interval_data = WQCData(\n",
    "    var_q=0.411163e-3 ** 2,                                                 \n",
    "    var_c=5.182580e-6 ** 2,                                                 \n",
    "    wq=0.033140e-3,                                                         \n",
    "    wc=-0.472108e-6,                                                        \n",
    "    corr_qc=-0.881017, \n",
    ")\n",
    "                                                         \n",
    "massfluxes, fvsp = fvspart_interval(interval_data, wue, wipe_if_invalid=True) \n",
    "\n",
    "print(fvsp)\n",
    "print()\n",
    "print(massfluxes)"
   ]
  }
 ],
 "metadata": {
  "kernelspec": {
   "display_name": "Python 3",
   "language": "python",
   "name": "python3"
  },
  "language_info": {
   "codemirror_mode": {
    "name": "ipython",
    "version": 3
   },
   "file_extension": ".py",
   "mimetype": "text/x-python",
   "name": "python",
   "nbconvert_exporter": "python",
   "pygments_lexer": "ipython3",
   "version": "3.7.0"
  }
 },
 "nbformat": 4,
 "nbformat_minor": 2
}
